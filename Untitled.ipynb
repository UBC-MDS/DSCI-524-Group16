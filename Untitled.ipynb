{
 "cells": [
  {
   "cell_type": "code",
   "execution_count": 122,
   "metadata": {},
   "outputs": [],
   "source": [
    "\n",
    "import os\n",
    "\n",
    "%matplotlib inline\n",
    "\n",
    "import pandas as pd\n",
    "import numpy as np\n",
    "from sklearn.datasets import make_blobs\n",
    "from sklearn.decomposition import PCA\n",
    "\n",
    "import altair as alt"
   ]
  },
  {
   "cell_type": "code",
   "execution_count": 143,
   "metadata": {},
   "outputs": [],
   "source": [
    "def show_clusters(data, clusters, centroids = None):\n",
    "    \"\"\"\n",
    "    This function reduces a data set to 2 dimensions using principle component analysis (PCA) and colours clusters of points.\n",
    "    Parameters\n",
    "\n",
    "\n",
    "    ----------\n",
    "    data : DataFrame\n",
    "    Scaled data\n",
    "\n",
    "    clusters : list, pandas Series\n",
    "    corresponding cluster for X\n",
    "\n",
    "    centroids: 2d array\n",
    "    Coordinates of cluster centroids\n",
    "\n",
    "\n",
    "    Returns\n",
    "    -------\n",
    "    plot\n",
    "    A 2d principle components scatter plot coloured by cluster\n",
    "    Examples\n",
    "    --------\n",
    "    >>> from sklearn.datasets import make_blobs\n",
    "    >>> X, _ = make_blobs(n_samples=10, centers=3, n_features=2)\n",
    "    >>> processed_data = preprocess(X)\n",
    "    >>> optimal_K = find_elbow(processed_data)\n",
    "    >>> centroids = fit(processed_data, optimal_k)\n",
    "    >>> show_clusters(processed_data, centroids)\n",
    "\n",
    "    \n",
    "    \"\"\"\n",
    "    \n",
    "    try:\n",
    "        data = pd.DataFrame(data)\n",
    "    except ValueError:\n",
    "        raise ValueError(\"data should be a pandas dataframe or a numpy2darray.\")\n",
    "        \n",
    "    try: \n",
    "        clusters = pd.Series(clusters)\n",
    "    except ValueError:\n",
    "        raise ValueError(\"clusters should be a list of numbers, a pandas series or a numpy1darray.\")\n",
    "        \n",
    "    if data.shape[0] != clusters.shape[0]:\n",
    "        raise ValueError(\"data should have the same number of rows as clusters\")\n",
    "\n",
    "    pca = PCA(n_components=2)\n",
    "    principal_comp = pca.fit_transform(data)\n",
    "    pca_df = pd.DataFrame(data=principal_comp, columns=[\"pca1\", \"pca2\"])\n",
    "    pca_df[\"cluster\"] = pd.Series(clusters).apply(str)\n",
    "    \n",
    "\n",
    "    plot = alt.Chart(pca_df).mark_point(size=20).encode(\n",
    "    alt.X('pca1'),\n",
    "    alt.Y('pca2'),\n",
    "    color='cluster')\n",
    "    \n",
    "    \n",
    "    \n",
    "        \n",
    "    if type(centroids) != type(None):\n",
    "        try:\n",
    "            centroids = pd.DataFrame(centroids)\n",
    "        except ValueError:\n",
    "            raise ValueError(\"centroids should be a pandas dataframe or a numpy2darray.\")\n",
    "        #centroids_df = pd.DataFrame(data= pca.transform(centroids), columns=[\"pca1\", \"pca2\"])\n",
    "        centroids_df = pd.DataFrame(data= np.array(centroids), columns=[\"pca1\", \"pca2\"])\n",
    "        centroids_df[\"cluster\"] = pd.Series(range(centroids.shape[0])).apply(str)\n",
    "\n",
    "        plot_centroid = alt.Chart(centroids_df).mark_point(size = 100).encode(\n",
    "            alt.X('pca1'),\n",
    "            alt.Y('pca2'),\n",
    "            color='cluster')\n",
    "        plot = plot + plot_centroid\n",
    "\n",
    "\n",
    "\n",
    "    return plot"
   ]
  },
  {
   "cell_type": "code",
   "execution_count": 144,
   "metadata": {},
   "outputs": [
    {
     "data": {
      "text/plain": [
       "array([[  5.47978152,  -8.09438738,   3.42933163],\n",
       "       [  7.21011381,  -9.93526223,   1.68331509],\n",
       "       [ -6.70504468,   4.86660241,  -5.81073135],\n",
       "       [ -3.89693732,   4.71499606,  -6.09214584],\n",
       "       [  5.89605379,  -9.8189236 ,   3.02662264],\n",
       "       [  6.23776355,   0.38779993,  -4.6101094 ],\n",
       "       [  5.68880169, -10.16769266,   4.04138663],\n",
       "       [ -5.99138753,   4.60218872,  -6.8863314 ],\n",
       "       [  4.34182348,   1.86890246,  -3.5075443 ],\n",
       "       [  3.85740612,   2.15046855,  -5.31360021]])"
      ]
     },
     "execution_count": 144,
     "metadata": {},
     "output_type": "execute_result"
    }
   ],
   "source": [
    "X"
   ]
  },
  {
   "cell_type": "code",
   "execution_count": 145,
   "metadata": {},
   "outputs": [
    {
     "data": {
      "text/html": [
       "\n",
       "<div id=\"altair-viz-ebf8ba0685e743849b912bdffa0b5fe8\"></div>\n",
       "<script type=\"text/javascript\">\n",
       "  (function(spec, embedOpt){\n",
       "    let outputDiv = document.currentScript.previousElementSibling;\n",
       "    if (outputDiv.id !== \"altair-viz-ebf8ba0685e743849b912bdffa0b5fe8\") {\n",
       "      outputDiv = document.getElementById(\"altair-viz-ebf8ba0685e743849b912bdffa0b5fe8\");\n",
       "    }\n",
       "    const paths = {\n",
       "      \"vega\": \"https://cdn.jsdelivr.net/npm//vega@5?noext\",\n",
       "      \"vega-lib\": \"https://cdn.jsdelivr.net/npm//vega-lib?noext\",\n",
       "      \"vega-lite\": \"https://cdn.jsdelivr.net/npm//vega-lite@4.8.1?noext\",\n",
       "      \"vega-embed\": \"https://cdn.jsdelivr.net/npm//vega-embed@6?noext\",\n",
       "    };\n",
       "\n",
       "    function loadScript(lib) {\n",
       "      return new Promise(function(resolve, reject) {\n",
       "        var s = document.createElement('script');\n",
       "        s.src = paths[lib];\n",
       "        s.async = true;\n",
       "        s.onload = () => resolve(paths[lib]);\n",
       "        s.onerror = () => reject(`Error loading script: ${paths[lib]}`);\n",
       "        document.getElementsByTagName(\"head\")[0].appendChild(s);\n",
       "      });\n",
       "    }\n",
       "\n",
       "    function showError(err) {\n",
       "      outputDiv.innerHTML = `<div class=\"error\" style=\"color:red;\">${err}</div>`;\n",
       "      throw err;\n",
       "    }\n",
       "\n",
       "    function displayChart(vegaEmbed) {\n",
       "      vegaEmbed(outputDiv, spec, embedOpt)\n",
       "        .catch(err => showError(`Javascript Error: ${err.message}<br>This usually means there's a typo in your chart specification. See the javascript console for the full traceback.`));\n",
       "    }\n",
       "\n",
       "    if(typeof define === \"function\" && define.amd) {\n",
       "      requirejs.config({paths});\n",
       "      require([\"vega-embed\"], displayChart, err => showError(`Error loading script: ${err.message}`));\n",
       "    } else if (typeof vegaEmbed === \"function\") {\n",
       "      displayChart(vegaEmbed);\n",
       "    } else {\n",
       "      loadScript(\"vega\")\n",
       "        .then(() => loadScript(\"vega-lite\"))\n",
       "        .then(() => loadScript(\"vega-embed\"))\n",
       "        .catch(showError)\n",
       "        .then(() => displayChart(vegaEmbed));\n",
       "    }\n",
       "  })({\"config\": {\"view\": {\"continuousWidth\": 400, \"continuousHeight\": 300}}, \"layer\": [{\"data\": {\"name\": \"data-2d3215576a0447e7333278d2608b78d3\"}, \"mark\": {\"type\": \"point\", \"size\": 20}, \"encoding\": {\"color\": {\"type\": \"nominal\", \"field\": \"cluster\"}, \"x\": {\"type\": \"quantitative\", \"field\": \"pca1\"}, \"y\": {\"type\": \"quantitative\", \"field\": \"pca2\"}}}, {\"data\": {\"name\": \"data-168960513e53efeca5cb3b3f8e4f67a5\"}, \"mark\": {\"type\": \"point\", \"size\": 100}, \"encoding\": {\"color\": {\"type\": \"nominal\", \"field\": \"cluster\"}, \"x\": {\"type\": \"quantitative\", \"field\": \"pca1\"}, \"y\": {\"type\": \"quantitative\", \"field\": \"pca2\"}}}], \"$schema\": \"https://vega.github.io/schema/vega-lite/v4.8.1.json\", \"datasets\": {\"data-2d3215576a0447e7333278d2608b78d3\": [{\"pca1\": -8.641346928895494, \"pca2\": -1.4990440035352988, \"cluster\": \"0\"}, {\"pca1\": -10.036963260707395, \"pca2\": -0.12758767763760534, \"cluster\": \"0\"}, {\"pca1\": 11.274386718510714, \"pca2\": -3.63180652304653, \"cluster\": \"2\"}, {\"pca1\": 9.843882409119338, \"pca2\": -1.1975035553226245, \"cluster\": \"2\"}, {\"pca1\": -9.902717856648962, \"pca2\": -1.6725241316966655, \"cluster\": \"0\"}, {\"pca1\": 0.8048864285143582, \"pca2\": 5.2484000659600065, \"cluster\": \"1\"}, {\"pca1\": -10.520518746236863, \"pca2\": -2.339233956267096, \"cluster\": \"0\"}, {\"pca1\": 11.219557898345887, \"pca2\": -2.749916235425483, \"cluster\": \"2\"}, {\"pca1\": 2.330158845821449, \"pca2\": 3.820961614700114, \"cluster\": \"1\"}, {\"pca1\": 3.6286744921769643, \"pca2\": 4.14825440227118, \"cluster\": \"1\"}], \"data-168960513e53efeca5cb3b3f8e4f67a5\": [{\"pca1\": -10, \"pca2\": 0, \"cluster\": \"0\"}, {\"pca1\": 3, \"pca2\": 3, \"cluster\": \"1\"}, {\"pca1\": 10, \"pca2\": -3, \"cluster\": \"2\"}]}}, {\"mode\": \"vega-lite\"});\n",
       "</script>"
      ],
      "text/plain": [
       "alt.LayerChart(...)"
      ]
     },
     "execution_count": 145,
     "metadata": {},
     "output_type": "execute_result"
    }
   ],
   "source": [
    "X, y = make_blobs(n_samples=10, centers=3, n_features=3, random_state=10)\n",
    "centroids = np.array([[-10,0], [3,3], [10,-3]])    \n",
    "c= show_clusters(X, y, centroids)\n",
    "c"
   ]
  },
  {
   "cell_type": "code",
   "execution_count": 138,
   "metadata": {},
   "outputs": [
    {
     "data": {
      "text/plain": [
       "[alt.Chart(...), alt.Chart(...)]"
      ]
     },
     "execution_count": 138,
     "metadata": {},
     "output_type": "execute_result"
    }
   ],
   "source": []
  },
  {
   "cell_type": "code",
   "execution_count": 103,
   "metadata": {},
   "outputs": [
    {
     "data": {
      "text/html": [
       "\n",
       "<div id=\"altair-viz-7723b39087974f8ba3d46544c528ec81\"></div>\n",
       "<script type=\"text/javascript\">\n",
       "  (function(spec, embedOpt){\n",
       "    let outputDiv = document.currentScript.previousElementSibling;\n",
       "    if (outputDiv.id !== \"altair-viz-7723b39087974f8ba3d46544c528ec81\") {\n",
       "      outputDiv = document.getElementById(\"altair-viz-7723b39087974f8ba3d46544c528ec81\");\n",
       "    }\n",
       "    const paths = {\n",
       "      \"vega\": \"https://cdn.jsdelivr.net/npm//vega@5?noext\",\n",
       "      \"vega-lib\": \"https://cdn.jsdelivr.net/npm//vega-lib?noext\",\n",
       "      \"vega-lite\": \"https://cdn.jsdelivr.net/npm//vega-lite@4.8.1?noext\",\n",
       "      \"vega-embed\": \"https://cdn.jsdelivr.net/npm//vega-embed@6?noext\",\n",
       "    };\n",
       "\n",
       "    function loadScript(lib) {\n",
       "      return new Promise(function(resolve, reject) {\n",
       "        var s = document.createElement('script');\n",
       "        s.src = paths[lib];\n",
       "        s.async = true;\n",
       "        s.onload = () => resolve(paths[lib]);\n",
       "        s.onerror = () => reject(`Error loading script: ${paths[lib]}`);\n",
       "        document.getElementsByTagName(\"head\")[0].appendChild(s);\n",
       "      });\n",
       "    }\n",
       "\n",
       "    function showError(err) {\n",
       "      outputDiv.innerHTML = `<div class=\"error\" style=\"color:red;\">${err}</div>`;\n",
       "      throw err;\n",
       "    }\n",
       "\n",
       "    function displayChart(vegaEmbed) {\n",
       "      vegaEmbed(outputDiv, spec, embedOpt)\n",
       "        .catch(err => showError(`Javascript Error: ${err.message}<br>This usually means there's a typo in your chart specification. See the javascript console for the full traceback.`));\n",
       "    }\n",
       "\n",
       "    if(typeof define === \"function\" && define.amd) {\n",
       "      requirejs.config({paths});\n",
       "      require([\"vega-embed\"], displayChart, err => showError(`Error loading script: ${err.message}`));\n",
       "    } else if (typeof vegaEmbed === \"function\") {\n",
       "      displayChart(vegaEmbed);\n",
       "    } else {\n",
       "      loadScript(\"vega\")\n",
       "        .then(() => loadScript(\"vega-lite\"))\n",
       "        .then(() => loadScript(\"vega-embed\"))\n",
       "        .catch(showError)\n",
       "        .then(() => displayChart(vegaEmbed));\n",
       "    }\n",
       "  })({\"config\": {\"view\": {\"continuousWidth\": 400, \"continuousHeight\": 300}}, \"layer\": [{\"data\": {\"name\": \"data-2d3215576a0447e7333278d2608b78d3\"}, \"mark\": {\"type\": \"point\", \"size\": 10}, \"encoding\": {\"color\": {\"type\": \"nominal\", \"field\": \"cluster\"}, \"x\": {\"type\": \"quantitative\", \"field\": \"pca1\"}, \"y\": {\"type\": \"quantitative\", \"field\": \"pca2\"}}}, {\"data\": {\"name\": \"data-d1bd594264ea5ee43fa46267fdbb75d1\"}, \"mark\": {\"type\": \"point\", \"size\": 100}, \"encoding\": {\"color\": {\"type\": \"nominal\", \"field\": \"cluster\"}, \"x\": {\"type\": \"quantitative\", \"field\": \"pca1\"}, \"y\": {\"type\": \"quantitative\", \"field\": \"pca2\"}}}], \"$schema\": \"https://vega.github.io/schema/vega-lite/v4.8.1.json\", \"datasets\": {\"data-2d3215576a0447e7333278d2608b78d3\": [{\"pca1\": -8.641346928895494, \"pca2\": -1.4990440035352988, \"cluster\": \"0\"}, {\"pca1\": -10.036963260707395, \"pca2\": -0.12758767763760534, \"cluster\": \"0\"}, {\"pca1\": 11.274386718510714, \"pca2\": -3.63180652304653, \"cluster\": \"2\"}, {\"pca1\": 9.843882409119338, \"pca2\": -1.1975035553226245, \"cluster\": \"2\"}, {\"pca1\": -9.902717856648962, \"pca2\": -1.6725241316966655, \"cluster\": \"0\"}, {\"pca1\": 0.8048864285143582, \"pca2\": 5.2484000659600065, \"cluster\": \"1\"}, {\"pca1\": -10.520518746236863, \"pca2\": -2.339233956267096, \"cluster\": \"0\"}, {\"pca1\": 11.219557898345887, \"pca2\": -2.749916235425483, \"cluster\": \"2\"}, {\"pca1\": 2.330158845821449, \"pca2\": 3.820961614700114, \"cluster\": \"1\"}, {\"pca1\": 3.6286744921769643, \"pca2\": 4.14825440227118, \"cluster\": \"1\"}], \"data-d1bd594264ea5ee43fa46267fdbb75d1\": [{\"pca1\": -5.058346072713435, \"pca2\": 3.066942688363508, \"cluster\": \"2\"}, {\"pca1\": -3.486603059862742, \"pca2\": -4.127723207831541, \"cluster\": \"1\"}, {\"pca1\": 5.174693194676379, \"pca2\": 0.0019191059212898772, \"cluster\": \"0\"}, {\"pca1\": -4.267880486248315, \"pca2\": -3.0334600737777198, \"cluster\": \"1\"}, {\"pca1\": 7.346245778846853, \"pca2\": -0.3173795934368443, \"cluster\": \"0\"}, {\"pca1\": 6.171436417548185, \"pca2\": 0.10388555432950754, \"cluster\": \"0\"}, {\"pca1\": -5.712127018534996, \"pca2\": -2.252157521029693, \"cluster\": \"1\"}, {\"pca1\": 6.859930302375484, \"pca2\": -0.006005075818777718, \"cluster\": \"0\"}, {\"pca1\": -3.5635486676174892, \"pca2\": 2.3171402095572873, \"cluster\": \"2\"}, {\"pca1\": -3.4638003884699238, \"pca2\": 4.24683791372298, \"cluster\": \"2\"}]}}, {\"mode\": \"vega-lite\"});\n",
       "</script>"
      ],
      "text/plain": [
       "alt.LayerChart(...)"
      ]
     },
     "execution_count": 103,
     "metadata": {},
     "output_type": "execute_result"
    }
   ],
   "source": [
    "a+b"
   ]
  },
  {
   "cell_type": "code",
   "execution_count": null,
   "metadata": {},
   "outputs": [],
   "source": []
  },
  {
   "cell_type": "code",
   "execution_count": 28,
   "metadata": {},
   "outputs": [
    {
     "data": {
      "text/plain": [
       "21312"
      ]
     },
     "execution_count": 28,
     "metadata": {},
     "output_type": "execute_result"
    }
   ],
   "source": [
    "def test_show_clusters():\n",
    "  X, y = make_blobs(n_samples=10, centers=3, n_features=3, random_state=10)\n",
    "  a = show_clusters(X, y)\n",
    "\n",
    "  assert a.encoding.x.shorthand == 'pca1', a.encoding.x.shorthand\n",
    "  assert a.encoding.y.shorthand =='pca2', a.encoding.y.shorthand\n",
    "  assert a.mark == 'point', a.mark\n",
    "\n",
    "test_show_clusters()\n",
    "21312"
   ]
  },
  {
   "cell_type": "code",
   "execution_count": null,
   "metadata": {},
   "outputs": [],
   "source": []
  },
  {
   "cell_type": "code",
   "execution_count": 17,
   "metadata": {},
   "outputs": [
    {
     "data": {
      "text/plain": [
       "X({\n",
       "  field: 'pca1',\n",
       "  type: 'quantitative'\n",
       "})"
      ]
     },
     "execution_count": 17,
     "metadata": {},
     "output_type": "execute_result"
    }
   ],
   "source": [
    "a.encoding.x"
   ]
  },
  {
   "cell_type": "code",
   "execution_count": null,
   "metadata": {},
   "outputs": [],
   "source": []
  }
 ],
 "metadata": {
  "kernelspec": {
   "display_name": "Python [conda env:563]",
   "language": "python",
   "name": "conda-env-563-py"
  },
  "language_info": {
   "codemirror_mode": {
    "name": "ipython",
    "version": 3
   },
   "file_extension": ".py",
   "mimetype": "text/x-python",
   "name": "python",
   "nbconvert_exporter": "python",
   "pygments_lexer": "ipython3",
   "version": "3.7.10"
  }
 },
 "nbformat": 4,
 "nbformat_minor": 4
}
