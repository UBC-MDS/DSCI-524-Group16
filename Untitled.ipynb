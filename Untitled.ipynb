{
 "cells": [
  {
   "cell_type": "code",
   "execution_count": 146,
   "metadata": {},
   "outputs": [],
   "source": [
    "\n",
    "import os\n",
    "\n",
    "%matplotlib inline\n",
    "\n",
    "import pandas as pd\n",
    "import numpy as np\n",
    "from sklearn.datasets import make_blobs\n",
    "from sklearn.decomposition import PCA\n",
    "\n",
    "import altair as alt"
   ]
  },
  {
   "cell_type": "code",
   "execution_count": 238,
   "metadata": {},
   "outputs": [],
   "source": [
    "def show_clusters(data, clusters, centroids = None):\n",
    "    \"\"\"\n",
    "    This function reduces a data set to 2 dimensions using principle component analysis (PCA) and colours clusters of points.\n",
    "    Parameters\n",
    "\n",
    "\n",
    "    ----------\n",
    "    data : DataFrame\n",
    "    Scaled data\n",
    "\n",
    "    clusters : list, pandas Series\n",
    "    corresponding cluster for X\n",
    "\n",
    "    centroids: 2d array\n",
    "    Coordinates of cluster centroids\n",
    "\n",
    "\n",
    "    Returns\n",
    "    -------\n",
    "    plot\n",
    "    A 2d principle components scatter plot coloured by cluster\n",
    "    Examples\n",
    "    --------\n",
    "    >>> from sklearn.datasets import make_blobs\n",
    "    >>> X, _ = make_blobs(n_samples=10, centers=3, n_features=2)\n",
    "    >>> processed_data = preprocess(X)\n",
    "    >>> optimal_K = find_elbow(processed_data)\n",
    "    >>> centroids = fit(processed_data, optimal_k)\n",
    "    >>> show_clusters(processed_data, centroids)\n",
    "\n",
    "    \n",
    "    \"\"\"\n",
    "    \n",
    "    # Exception handling\n",
    "    try:\n",
    "        data = pd.DataFrame(data)\n",
    "    except ValueError:\n",
    "        raise ValueError(\"data should be a pandas dataframe or a numpy2darray.\")\n",
    "        \n",
    "    try: \n",
    "        clusters = pd.Series(clusters)\n",
    "    except ValueError:\n",
    "        raise ValueError(\"clusters should be a list of numbers, a pandas series or a numpy1darray.\")\n",
    "        \n",
    "    if data.shape[0] != clusters.shape[0]:\n",
    "        raise ValueError(\"data should have the same number of rows as clusters\")\n",
    "\n",
    "    # Plot without centroid\n",
    "    pca = PCA(n_components=2)\n",
    "    principal_comp = pca.fit_transform(data)\n",
    "    pca_df = pd.DataFrame(data=principal_comp, columns=[\"pca1\", \"pca2\"])\n",
    "    pca_df[\"cluster\"] = pd.Series(clusters).apply(str)\n",
    "    \n",
    "\n",
    "    plot = alt.Chart(pca_df).mark_point(size=20).encode(\n",
    "    alt.X('pca1'),\n",
    "    alt.Y('pca2'),\n",
    "    color='cluster')\n",
    "    \n",
    "    \n",
    "    \n",
    "    #    \n",
    "    if type(centroids) != type(None):\n",
    "        try:\n",
    "            centroids = pd.DataFrame(centroids)\n",
    "        except ValueError:\n",
    "            raise ValueError(\"centroids should be a pandas dataframe or a numpy2darray.\")\n",
    "        centroids_df = pd.DataFrame(data= pca.transform(centroids), columns=[\"pca1\", \"pca2\"])\n",
    "        #centroids_df = pd.DataFrame(data= np.array(centroids), columns=[\"pca1\", \"pca2\"])\n",
    "        centroids_df[\"cluster\"] = pd.Series(range(centroids.shape[0])).apply(str)\n",
    "\n",
    "        plot_centroid = alt.Chart(centroids_df).mark_point(filled=True, shape='cross', size = 150,opacity=1).encode(\n",
    "            alt.X('pca1'),\n",
    "            alt.Y('pca2'),\n",
    "            color='cluster')\n",
    "        plot = plot + plot_centroid\n",
    "\n",
    "\n",
    "\n",
    "    return plot"
   ]
  },
  {
   "cell_type": "code",
   "execution_count": 239,
   "metadata": {},
   "outputs": [
    {
     "data": {
      "text/html": [
       "\n",
       "<div id=\"altair-viz-252dc13b365249089c0f9bca6194cacf\"></div>\n",
       "<script type=\"text/javascript\">\n",
       "  (function(spec, embedOpt){\n",
       "    let outputDiv = document.currentScript.previousElementSibling;\n",
       "    if (outputDiv.id !== \"altair-viz-252dc13b365249089c0f9bca6194cacf\") {\n",
       "      outputDiv = document.getElementById(\"altair-viz-252dc13b365249089c0f9bca6194cacf\");\n",
       "    }\n",
       "    const paths = {\n",
       "      \"vega\": \"https://cdn.jsdelivr.net/npm//vega@5?noext\",\n",
       "      \"vega-lib\": \"https://cdn.jsdelivr.net/npm//vega-lib?noext\",\n",
       "      \"vega-lite\": \"https://cdn.jsdelivr.net/npm//vega-lite@4.8.1?noext\",\n",
       "      \"vega-embed\": \"https://cdn.jsdelivr.net/npm//vega-embed@6?noext\",\n",
       "    };\n",
       "\n",
       "    function loadScript(lib) {\n",
       "      return new Promise(function(resolve, reject) {\n",
       "        var s = document.createElement('script');\n",
       "        s.src = paths[lib];\n",
       "        s.async = true;\n",
       "        s.onload = () => resolve(paths[lib]);\n",
       "        s.onerror = () => reject(`Error loading script: ${paths[lib]}`);\n",
       "        document.getElementsByTagName(\"head\")[0].appendChild(s);\n",
       "      });\n",
       "    }\n",
       "\n",
       "    function showError(err) {\n",
       "      outputDiv.innerHTML = `<div class=\"error\" style=\"color:red;\">${err}</div>`;\n",
       "      throw err;\n",
       "    }\n",
       "\n",
       "    function displayChart(vegaEmbed) {\n",
       "      vegaEmbed(outputDiv, spec, embedOpt)\n",
       "        .catch(err => showError(`Javascript Error: ${err.message}<br>This usually means there's a typo in your chart specification. See the javascript console for the full traceback.`));\n",
       "    }\n",
       "\n",
       "    if(typeof define === \"function\" && define.amd) {\n",
       "      requirejs.config({paths});\n",
       "      require([\"vega-embed\"], displayChart, err => showError(`Error loading script: ${err.message}`));\n",
       "    } else if (typeof vegaEmbed === \"function\") {\n",
       "      displayChart(vegaEmbed);\n",
       "    } else {\n",
       "      loadScript(\"vega\")\n",
       "        .then(() => loadScript(\"vega-lite\"))\n",
       "        .then(() => loadScript(\"vega-embed\"))\n",
       "        .catch(showError)\n",
       "        .then(() => displayChart(vegaEmbed));\n",
       "    }\n",
       "  })({\"config\": {\"view\": {\"continuousWidth\": 400, \"continuousHeight\": 300}}, \"layer\": [{\"data\": {\"name\": \"data-9b7f127d4c4d5f6c95df2d535cb8004f\"}, \"mark\": {\"type\": \"point\", \"size\": 20}, \"encoding\": {\"color\": {\"type\": \"nominal\", \"field\": \"cluster\"}, \"x\": {\"type\": \"quantitative\", \"field\": \"pca1\"}, \"y\": {\"type\": \"quantitative\", \"field\": \"pca2\"}}}, {\"data\": {\"name\": \"data-d1576be960b402a95d6bf67cdc000fe6\"}, \"mark\": {\"type\": \"point\", \"filled\": true, \"opacity\": 1, \"shape\": \"cross\", \"size\": 150}, \"encoding\": {\"color\": {\"type\": \"nominal\", \"field\": \"cluster\"}, \"x\": {\"type\": \"quantitative\", \"field\": \"pca1\"}, \"y\": {\"type\": \"quantitative\", \"field\": \"pca2\"}}}], \"$schema\": \"https://vega.github.io/schema/vega-lite/v4.8.1.json\", \"datasets\": {\"data-9b7f127d4c4d5f6c95df2d535cb8004f\": [{\"pca1\": -0.8635936834294693, \"pca2\": 4.515958624162724, \"cluster\": \"2\"}, {\"pca1\": -1.5546563748049336, \"pca2\": 3.9764255086439353, \"cluster\": \"2\"}, {\"pca1\": 9.815397737112127, \"pca2\": -1.181512172110072, \"cluster\": \"1\"}, {\"pca1\": 11.169293386565647, \"pca2\": 0.6803930558642293, \"cluster\": \"1\"}, {\"pca1\": -1.6048173035450832, \"pca2\": 5.16708939922007, \"cluster\": \"2\"}, {\"pca1\": -0.5999104184462057, \"pca2\": 3.376711072022676, \"cluster\": \"2\"}, {\"pca1\": -1.0246344210645046, \"pca2\": 3.01340607654204, \"cluster\": \"2\"}, {\"pca1\": -8.814427244115434, \"pca2\": -5.954987741090107, \"cluster\": \"0\"}, {\"pca1\": -8.378987556149154, \"pca2\": -2.8629211379604618, \"cluster\": \"0\"}, {\"pca1\": 10.563160903576387, \"pca2\": -1.6415703937002524, \"cluster\": \"1\"}, {\"pca1\": -8.543266002197747, \"pca2\": -2.329608177059048, \"cluster\": \"0\"}, {\"pca1\": -7.781653160909579, \"pca2\": -0.4292810635739703, \"cluster\": \"0\"}, {\"pca1\": -7.799427105158231, \"pca2\": -2.197930687425532, \"cluster\": \"0\"}, {\"pca1\": 11.031421552949164, \"pca2\": -1.51052157132488, \"cluster\": \"1\"}, {\"pca1\": -8.44017550736038, \"pca2\": -3.449266615664992, \"cluster\": \"0\"}, {\"pca1\": -7.708249894747938, \"pca2\": -3.391827446510245, \"cluster\": \"0\"}, {\"pca1\": 9.418404049854104, \"pca2\": -0.7337394505138124, \"cluster\": \"1\"}, {\"pca1\": 9.070393632938062, \"pca2\": -2.1838680884292585, \"cluster\": \"1\"}, {\"pca1\": -8.523900523191411, \"pca2\": -3.2907522207125406, \"cluster\": \"0\"}, {\"pca1\": -2.670176020401393, \"pca2\": 4.877332601454276, \"cluster\": \"2\"}, {\"pca1\": -9.313186586138167, \"pca2\": -2.0979130110123108, \"cluster\": \"0\"}, {\"pca1\": -1.6598722246917195, \"pca2\": 5.022712957319741, \"cluster\": \"2\"}, {\"pca1\": -9.018386043501067, \"pca2\": -2.3746466636276073, \"cluster\": \"0\"}, {\"pca1\": -6.995033291981903, \"pca2\": -1.17087886791913, \"cluster\": \"0\"}, {\"pca1\": -1.3996778254117535, \"pca2\": 3.384811490240425, \"cluster\": \"2\"}, {\"pca1\": 10.935358417955548, \"pca2\": -0.9695425908949697, \"cluster\": \"1\"}, {\"pca1\": -2.1499358575000604, \"pca2\": 4.795027974531309, \"cluster\": \"2\"}, {\"pca1\": 9.646754008909632, \"pca2\": -3.5127152229412086, \"cluster\": \"1\"}, {\"pca1\": -2.8078450487392588, \"pca2\": 6.036175655294095, \"cluster\": \"2\"}, {\"pca1\": 9.752875959883506, \"pca2\": -0.32506624290506014, \"cluster\": \"1\"}, {\"pca1\": 8.561972273372804, \"pca2\": -1.7040886758870135, \"cluster\": \"1\"}, {\"pca1\": -8.977730724812364, \"pca2\": -1.4217796387108392, \"cluster\": \"0\"}, {\"pca1\": -2.276751969635972, \"pca2\": 3.3002109735780136, \"cluster\": \"2\"}, {\"pca1\": 9.941601501814631, \"pca2\": -3.2394297211810823, \"cluster\": \"1\"}, {\"pca1\": 7.304085501537102, \"pca2\": -1.8997270660602052, \"cluster\": \"1\"}, {\"pca1\": -1.0223149312610453, \"pca2\": 6.9004223872667625, \"cluster\": \"2\"}, {\"pca1\": 10.840119428804746, \"pca2\": -1.7254180800910361, \"cluster\": \"1\"}, {\"pca1\": -7.357863053075976, \"pca2\": -3.396535079748345, \"cluster\": \"0\"}, {\"pca1\": -7.951175133318205, \"pca2\": -3.9242037708108843, \"cluster\": \"0\"}, {\"pca1\": 10.878979999321794, \"pca2\": -2.3184109186042767, \"cluster\": \"1\"}, {\"pca1\": -2.105724806990896, \"pca2\": 3.597126226430804, \"cluster\": \"2\"}, {\"pca1\": 8.81990866604759, \"pca2\": -1.939635415081539, \"cluster\": \"1\"}, {\"pca1\": 9.002435985180563, \"pca2\": -0.5952164838452543, \"cluster\": \"1\"}, {\"pca1\": 9.758137777804764, \"pca2\": -1.3338116108108433, \"cluster\": \"1\"}, {\"pca1\": -9.324890497712293, \"pca2\": -2.9451578305435193, \"cluster\": \"0\"}, {\"pca1\": -6.007934274177649, \"pca2\": -2.674933029510198, \"cluster\": \"0\"}, {\"pca1\": -1.4229989069367153, \"pca2\": 4.228291526481218, \"cluster\": \"2\"}, {\"pca1\": -1.520789439264518, \"pca2\": 4.990313708032762, \"cluster\": \"2\"}, {\"pca1\": -7.914540978500696, \"pca2\": -2.382428978335988, \"cluster\": \"0\"}, {\"pca1\": -2.975773974456478, \"pca2\": 5.2469164275113265, \"cluster\": \"2\"}], \"data-d1576be960b402a95d6bf67cdc000fe6\": [{\"pca1\": -8.167695739826367, \"pca2\": -2.723238350600925, \"cluster\": \"0\"}, {\"pca1\": 9.79472357550754, \"pca2\": -1.5372870969715602, \"cluster\": \"1\"}, {\"pca1\": -1.7287170754112484, \"pca2\": 4.5268082880457605, \"cluster\": \"2\"}]}}, {\"mode\": \"vega-lite\"});\n",
       "</script>"
      ],
      "text/plain": [
       "alt.LayerChart(...)"
      ]
     },
     "execution_count": 239,
     "metadata": {},
     "output_type": "execute_result"
    }
   ],
   "source": [
    "X, y = make_blobs(n_samples=50, centers=3, n_features=3, random_state=20)\n",
    "\n",
    "X_df = pd.DataFrame(X)\n",
    "\n",
    "X_df['cluster'] = pd.Series(y).apply(str)\n",
    "centroids = X_df.groupby('cluster').mean()\n",
    "\n",
    "#centroids = np.array([[-10,0], [3,3], [10,-3]])    \n",
    "\n",
    "c= show_clusters(X, y, centroids)\n",
    "c"
   ]
  },
  {
   "cell_type": "code",
   "execution_count": 197,
   "metadata": {},
   "outputs": [
    {
     "name": "stdout",
     "output_type": "stream",
     "text": [
      "test_show_clusters() passed\n"
     ]
    }
   ],
   "source": [
    "def test_show_clusters():\n",
    "    X, y = make_blobs(n_samples=20, centers=3, n_features=3, random_state=10)\n",
    "    a = show_clusters(X, y)\n",
    "    \n",
    "    \n",
    "    # Test plot without centroid\n",
    "    assert a.encoding.x.shorthand == 'pca1', 'x axis should be pca1'\n",
    "    assert a.encoding.y.shorthand =='pca2', 'y axis should be pca2'\n",
    "    assert a.mark.type == 'point', 'marktype should be point'\n",
    "    \n",
    "    # Test plot with centroid\n",
    "    X_df = pd.DataFrame(X)\n",
    "    X_df['cluster'] = pd.Series(y).apply(str)\n",
    "    centroids = X_df.groupby('cluster').mean()\n",
    "    a = show_clusters(X, y, centroids)\n",
    "    \n",
    "    assert a.layer[0].encoding.x.shorthand == 'pca1', 'x axis should be pca1'\n",
    "    assert a.layer[0].encoding.y.shorthand =='pca2', 'y axis should be pca2'\n",
    "    assert a.layer[0].mark.type == 'point', 'mark.type of layer[0] should be point'\n",
    "    \n",
    "    assert a.layer[1].encoding.x.shorthand == 'pca1','x axis should be pca1'\n",
    "    assert a.layer[1].encoding.y.shorthand =='pca2', 'y axis should be pca2'\n",
    "    assert a.layer[1].mark.type == 'circle', 'mark.type of layer[1] should be point'\n",
    "    \n",
    "    print('test_show_clusters() passed')\n",
    "    \n",
    "\n",
    "test_show_clusters()\n"
   ]
  },
  {
   "cell_type": "code",
   "execution_count": null,
   "metadata": {},
   "outputs": [],
   "source": []
  },
  {
   "cell_type": "code",
   "execution_count": 17,
   "metadata": {},
   "outputs": [
    {
     "data": {
      "text/plain": [
       "X({\n",
       "  field: 'pca1',\n",
       "  type: 'quantitative'\n",
       "})"
      ]
     },
     "execution_count": 17,
     "metadata": {},
     "output_type": "execute_result"
    }
   ],
   "source": [
    "a.encoding.x"
   ]
  },
  {
   "cell_type": "code",
   "execution_count": null,
   "metadata": {},
   "outputs": [],
   "source": []
  }
 ],
 "metadata": {
  "kernelspec": {
   "display_name": "Python [conda env:563]",
   "language": "python",
   "name": "conda-env-563-py"
  },
  "language_info": {
   "codemirror_mode": {
    "name": "ipython",
    "version": 3
   },
   "file_extension": ".py",
   "mimetype": "text/x-python",
   "name": "python",
   "nbconvert_exporter": "python",
   "pygments_lexer": "ipython3",
   "version": "3.7.10"
  }
 },
 "nbformat": 4,
 "nbformat_minor": 4
}
